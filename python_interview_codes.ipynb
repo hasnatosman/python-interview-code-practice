{
  "nbformat": 4,
  "nbformat_minor": 0,
  "metadata": {
    "colab": {
      "provenance": [],
      "toc_visible": true,
      "authorship_tag": "ABX9TyO6BxjXT7Wv0sv19ns6fvV6",
      "include_colab_link": true
    },
    "kernelspec": {
      "name": "python3",
      "display_name": "Python 3"
    },
    "language_info": {
      "name": "python"
    }
  },
  "cells": [
    {
      "cell_type": "markdown",
      "metadata": {
        "id": "view-in-github",
        "colab_type": "text"
      },
      "source": [
        "<a href=\"https://colab.research.google.com/github/hasnatosman/python-interview-code-practice/blob/master/python_interview_codes.ipynb\" target=\"_parent\"><img src=\"https://colab.research.google.com/assets/colab-badge.svg\" alt=\"Open In Colab\"/></a>"
      ]
    },
    {
      "cell_type": "markdown",
      "source": [
        "# integer to decimal"
      ],
      "metadata": {
        "id": "BPDkDRRLR2IM"
      }
    },
    {
      "cell_type": "code",
      "execution_count": 1,
      "metadata": {
        "colab": {
          "base_uri": "https://localhost:8080/"
        },
        "id": "3EmK4NapQwVJ",
        "outputId": "5359a829-b674-47a4-c3d7-a8688c47fd5f"
      },
      "outputs": [
        {
          "output_type": "stream",
          "name": "stdout",
          "text": [
            "10\n",
            "<class 'decimal.Decimal'>\n"
          ]
        }
      ],
      "source": [
        "import decimal\n",
        "integer = 10\n",
        "print(decimal.Decimal(integer))\n",
        "print(type(decimal.Decimal(integer)))"
      ]
    }
  ]
}